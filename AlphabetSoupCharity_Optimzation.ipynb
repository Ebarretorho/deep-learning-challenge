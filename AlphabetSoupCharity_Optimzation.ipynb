{
 "cells": [
  {
   "cell_type": "markdown",
   "metadata": {},
   "source": [
    "## Optimizing the model"
   ]
  },
  {
   "cell_type": "code",
   "execution_count": 33,
   "metadata": {},
   "outputs": [
    {
     "data": {
      "text/html": [
       "<div>\n",
       "<style scoped>\n",
       "    .dataframe tbody tr th:only-of-type {\n",
       "        vertical-align: middle;\n",
       "    }\n",
       "\n",
       "    .dataframe tbody tr th {\n",
       "        vertical-align: top;\n",
       "    }\n",
       "\n",
       "    .dataframe thead th {\n",
       "        text-align: right;\n",
       "    }\n",
       "</style>\n",
       "<table border=\"1\" class=\"dataframe\">\n",
       "  <thead>\n",
       "    <tr style=\"text-align: right;\">\n",
       "      <th></th>\n",
       "      <th>EIN</th>\n",
       "      <th>NAME</th>\n",
       "      <th>APPLICATION_TYPE</th>\n",
       "      <th>AFFILIATION</th>\n",
       "      <th>CLASSIFICATION</th>\n",
       "      <th>USE_CASE</th>\n",
       "      <th>ORGANIZATION</th>\n",
       "      <th>STATUS</th>\n",
       "      <th>INCOME_AMT</th>\n",
       "      <th>SPECIAL_CONSIDERATIONS</th>\n",
       "      <th>ASK_AMT</th>\n",
       "      <th>IS_SUCCESSFUL</th>\n",
       "    </tr>\n",
       "  </thead>\n",
       "  <tbody>\n",
       "    <tr>\n",
       "      <th>0</th>\n",
       "      <td>10520599</td>\n",
       "      <td>BLUE KNIGHTS MOTORCYCLE CLUB</td>\n",
       "      <td>T10</td>\n",
       "      <td>Independent</td>\n",
       "      <td>C1000</td>\n",
       "      <td>ProductDev</td>\n",
       "      <td>Association</td>\n",
       "      <td>1</td>\n",
       "      <td>0</td>\n",
       "      <td>N</td>\n",
       "      <td>5000</td>\n",
       "      <td>1</td>\n",
       "    </tr>\n",
       "    <tr>\n",
       "      <th>1</th>\n",
       "      <td>10531628</td>\n",
       "      <td>AMERICAN CHESAPEAKE CLUB CHARITABLE TR</td>\n",
       "      <td>T3</td>\n",
       "      <td>Independent</td>\n",
       "      <td>C2000</td>\n",
       "      <td>Preservation</td>\n",
       "      <td>Co-operative</td>\n",
       "      <td>1</td>\n",
       "      <td>1-9999</td>\n",
       "      <td>N</td>\n",
       "      <td>108590</td>\n",
       "      <td>1</td>\n",
       "    </tr>\n",
       "    <tr>\n",
       "      <th>2</th>\n",
       "      <td>10547893</td>\n",
       "      <td>ST CLOUD PROFESSIONAL FIREFIGHTERS</td>\n",
       "      <td>T5</td>\n",
       "      <td>CompanySponsored</td>\n",
       "      <td>C3000</td>\n",
       "      <td>ProductDev</td>\n",
       "      <td>Association</td>\n",
       "      <td>1</td>\n",
       "      <td>0</td>\n",
       "      <td>N</td>\n",
       "      <td>5000</td>\n",
       "      <td>0</td>\n",
       "    </tr>\n",
       "    <tr>\n",
       "      <th>3</th>\n",
       "      <td>10553066</td>\n",
       "      <td>SOUTHSIDE ATHLETIC ASSOCIATION</td>\n",
       "      <td>T3</td>\n",
       "      <td>CompanySponsored</td>\n",
       "      <td>C2000</td>\n",
       "      <td>Preservation</td>\n",
       "      <td>Trust</td>\n",
       "      <td>1</td>\n",
       "      <td>10000-24999</td>\n",
       "      <td>N</td>\n",
       "      <td>6692</td>\n",
       "      <td>1</td>\n",
       "    </tr>\n",
       "    <tr>\n",
       "      <th>4</th>\n",
       "      <td>10556103</td>\n",
       "      <td>GENETIC RESEARCH INSTITUTE OF THE DESERT</td>\n",
       "      <td>T3</td>\n",
       "      <td>Independent</td>\n",
       "      <td>C1000</td>\n",
       "      <td>Heathcare</td>\n",
       "      <td>Trust</td>\n",
       "      <td>1</td>\n",
       "      <td>100000-499999</td>\n",
       "      <td>N</td>\n",
       "      <td>142590</td>\n",
       "      <td>1</td>\n",
       "    </tr>\n",
       "  </tbody>\n",
       "</table>\n",
       "</div>"
      ],
      "text/plain": [
       "        EIN                                      NAME APPLICATION_TYPE  \\\n",
       "0  10520599              BLUE KNIGHTS MOTORCYCLE CLUB              T10   \n",
       "1  10531628    AMERICAN CHESAPEAKE CLUB CHARITABLE TR               T3   \n",
       "2  10547893        ST CLOUD PROFESSIONAL FIREFIGHTERS               T5   \n",
       "3  10553066            SOUTHSIDE ATHLETIC ASSOCIATION               T3   \n",
       "4  10556103  GENETIC RESEARCH INSTITUTE OF THE DESERT               T3   \n",
       "\n",
       "        AFFILIATION CLASSIFICATION      USE_CASE  ORGANIZATION  STATUS  \\\n",
       "0       Independent          C1000    ProductDev   Association       1   \n",
       "1       Independent          C2000  Preservation  Co-operative       1   \n",
       "2  CompanySponsored          C3000    ProductDev   Association       1   \n",
       "3  CompanySponsored          C2000  Preservation         Trust       1   \n",
       "4       Independent          C1000     Heathcare         Trust       1   \n",
       "\n",
       "      INCOME_AMT SPECIAL_CONSIDERATIONS  ASK_AMT  IS_SUCCESSFUL  \n",
       "0              0                      N     5000              1  \n",
       "1         1-9999                      N   108590              1  \n",
       "2              0                      N     5000              0  \n",
       "3    10000-24999                      N     6692              1  \n",
       "4  100000-499999                      N   142590              1  "
      ]
     },
     "execution_count": 33,
     "metadata": {},
     "output_type": "execute_result"
    }
   ],
   "source": [
    "# Import our dependencies\n",
    "from sklearn.model_selection import train_test_split\n",
    "from sklearn.preprocessing import StandardScaler\n",
    "import pandas as pd\n",
    "import tensorflow as tf\n",
    "\n",
    "#  Import and read the charity_data.csv.\n",
    "import pandas as pd \n",
    "application_df = pd.read_csv(\"Resources/charity_data.csv\")\n",
    "application_df.head()"
   ]
  },
  {
   "cell_type": "code",
   "execution_count": 34,
   "metadata": {},
   "outputs": [],
   "source": [
    "# Drop the non-beneficial ID columns, 'EIN' and 'NAME'.\n",
    "\n",
    "app1_df = application_df.drop(columns=['EIN',\"NAME\"])"
   ]
  },
  {
   "cell_type": "code",
   "execution_count": 35,
   "metadata": {},
   "outputs": [
    {
     "data": {
      "text/plain": [
       "APPLICATION_TYPE            17\n",
       "AFFILIATION                  6\n",
       "CLASSIFICATION              71\n",
       "USE_CASE                     5\n",
       "ORGANIZATION                 4\n",
       "STATUS                       2\n",
       "INCOME_AMT                   9\n",
       "SPECIAL_CONSIDERATIONS       2\n",
       "ASK_AMT                   8747\n",
       "IS_SUCCESSFUL                2\n",
       "dtype: int64"
      ]
     },
     "execution_count": 35,
     "metadata": {},
     "output_type": "execute_result"
    }
   ],
   "source": [
    "# Determine the number of unique values in each column.\n",
    "app1_df.nunique()"
   ]
  },
  {
   "cell_type": "code",
   "execution_count": 36,
   "metadata": {},
   "outputs": [
    {
     "data": {
      "text/plain": [
       "T3     27037\n",
       "T4      1542\n",
       "T6      1216\n",
       "T5      1173\n",
       "T19     1065\n",
       "T8       737\n",
       "T7       725\n",
       "T10      528\n",
       "T9       156\n",
       "T13       66\n",
       "T12       27\n",
       "T2        16\n",
       "T25        3\n",
       "T14        3\n",
       "T29        2\n",
       "T15        2\n",
       "T17        1\n",
       "Name: APPLICATION_TYPE, dtype: int64"
      ]
     },
     "execution_count": 36,
     "metadata": {},
     "output_type": "execute_result"
    }
   ],
   "source": [
    "# Look at APPLICATION_TYPE value counts for binning\n",
    "app1_df['APPLICATION_TYPE'].value_counts()"
   ]
  },
  {
   "cell_type": "markdown",
   "metadata": {},
   "source": [
    "## Optimizing Try One\n",
    "\n",
    "this attempt will focus on features; we will bin things differently, and try to have less values for Application type and Classification and remove the Organization type feature\n"
   ]
  },
  {
   "cell_type": "code",
   "execution_count": 37,
   "metadata": {},
   "outputs": [
    {
     "data": {
      "text/plain": [
       "T3       27037\n",
       "T4        1542\n",
       "T6        1216\n",
       "T5        1173\n",
       "T19       1065\n",
       "Other      804\n",
       "T8         737\n",
       "T7         725\n",
       "Name: APPLICATION_TYPE, dtype: int64"
      ]
     },
     "execution_count": 37,
     "metadata": {},
     "output_type": "execute_result"
    }
   ],
   "source": [
    "# Choose a cutoff value and create a list of application types to be replaced\n",
    "# use the variable name `application_types_to_replace`\n",
    "\n",
    "application_types_to_replace = [\"T12\",\"T2\",\"T25\",\"T14\",\"T29\",\"T15\",\"T17\",\"T13\",\"T9\",\"T10\"]\n",
    "\n",
    "# Replace in dataframe\n",
    "for app in application_types_to_replace:\n",
    "    app1_df['APPLICATION_TYPE'] = app1_df['APPLICATION_TYPE'].replace(app,\"Other\")\n",
    "\n",
    "# Check to make sure binning was successful\n",
    "app1_df['APPLICATION_TYPE'].value_counts()"
   ]
  },
  {
   "cell_type": "code",
   "execution_count": 38,
   "metadata": {},
   "outputs": [
    {
     "data": {
      "text/plain": [
       "C1000    17326\n",
       "C2000     6074\n",
       "C1200     4837\n",
       "C3000     1918\n",
       "C2100     1883\n",
       "         ...  \n",
       "C4120        1\n",
       "C8210        1\n",
       "C2561        1\n",
       "C4500        1\n",
       "C2150        1\n",
       "Name: CLASSIFICATION, Length: 71, dtype: int64"
      ]
     },
     "execution_count": 38,
     "metadata": {},
     "output_type": "execute_result"
    }
   ],
   "source": [
    "# Look at CLASSIFICATION value counts for binning\n",
    "app1_df['CLASSIFICATION'].value_counts()"
   ]
  },
  {
   "cell_type": "code",
   "execution_count": 39,
   "metadata": {},
   "outputs": [
    {
     "data": {
      "text/plain": [
       "C1000    17326\n",
       "C2000     6074\n",
       "Other     6062\n",
       "C1200     4837\n",
       "Name: CLASSIFICATION, dtype: int64"
      ]
     },
     "execution_count": 39,
     "metadata": {},
     "output_type": "execute_result"
    }
   ],
   "source": [
    "# Choose a cutoff value and create a list of classifications to be replaced\n",
    "# use the variable name `classifications_to_replace`\n",
    "classifications_to_replace = pd.DataFrame(app1_df['CLASSIFICATION'].value_counts().loc[lambda x : x<2000]).index\n",
    "\n",
    "# Replace in dataframe\n",
    "for cls in classifications_to_replace:\n",
    "    app1_df['CLASSIFICATION'] = app1_df['CLASSIFICATION'].replace(cls,\"Other\")\n",
    "    \n",
    "# Check to make sure binning was successful\n",
    "app1_df['CLASSIFICATION'].value_counts()"
   ]
  },
  {
   "cell_type": "code",
   "execution_count": 99,
   "metadata": {},
   "outputs": [
    {
     "data": {
      "text/plain": [
       "Index(['APPLICATION_TYPE', 'AFFILIATION', 'CLASSIFICATION', 'USE_CASE',\n",
       "       'ORGANIZATION', 'INCOME_AMT', 'ASK_AMT', 'IS_SUCCESSFUL'],\n",
       "      dtype='object')"
      ]
     },
     "execution_count": 99,
     "metadata": {},
     "output_type": "execute_result"
    }
   ],
   "source": [
    "# Convert categorical data to numeric with `pd.get_dummies`\n",
    "app2_df = app1_df.drop(columns = [\"SPECIAL_CONSIDERATIONS\",\"STATUS\"])\n",
    " \n",
    "app2_df.columns\n"
   ]
  },
  {
   "cell_type": "code",
   "execution_count": null,
   "metadata": {},
   "outputs": [],
   "source": [
    "app2_dummy = pd.get_dummies(app2_df)\n",
    "app2_dummy"
   ]
  },
  {
   "cell_type": "code",
   "execution_count": 67,
   "metadata": {},
   "outputs": [],
   "source": [
    "# Split our preprocessed data into our features and target arrays\n",
    "fts = app2_dummy.drop('IS_SUCCESSFUL', axis = True)\n",
    "tgt = app2_dummy['IS_SUCCESSFUL']\n",
    "\n",
    "# Split the preprocessed data into a training and testing dataset\n",
    "\n",
    "X_train, X_test, y_train, y_test = train_test_split(fts, tgt, random_state=12)"
   ]
  },
  {
   "cell_type": "code",
   "execution_count": 68,
   "metadata": {},
   "outputs": [],
   "source": [
    "# Create a StandardScaler instances\n",
    "scaler = StandardScaler()\n",
    "\n",
    "# Fit the StandardScaler\n",
    "X_scaler = scaler.fit(X_train)\n",
    "\n",
    "# Scale the data\n",
    "X_train_scaled = X_scaler.transform(X_train)\n",
    "X_test_scaled = X_scaler.transform(X_test)"
   ]
  },
  {
   "cell_type": "markdown",
   "metadata": {},
   "source": [
    "## Compile, Train and Evaluate the Model"
   ]
  },
  {
   "cell_type": "code",
   "execution_count": 69,
   "metadata": {},
   "outputs": [
    {
     "name": "stdout",
     "output_type": "stream",
     "text": [
      "Model: \"sequential_14\"\n",
      "_________________________________________________________________\n",
      " Layer (type)                Output Shape              Param #   \n",
      "=================================================================\n",
      " dense_43 (Dense)            (None, 50)                1900      \n",
      "                                                                 \n",
      " dense_44 (Dense)            (None, 1)                 51        \n",
      "                                                                 \n",
      "=================================================================\n",
      "Total params: 1,951\n",
      "Trainable params: 1,951\n",
      "Non-trainable params: 0\n",
      "_________________________________________________________________\n"
     ]
    }
   ],
   "source": [
    "# Define the model - deep neural net, i.e., the number of input features and hidden nodes for each layer.\n",
    "#  YOUR CODE GOES HERE\n",
    "\n",
    "nn = tf.keras.models.Sequential()\n",
    "\n",
    "# First hidden layer\n",
    "nn.add(tf.keras.layers.Dense(units=50, activation=\"relu\", input_dim=len(X_train_scaled[0])))\n",
    "\n",
    "# Output layer\n",
    "nn.add(tf.keras.layers.Dense(units=1, activation=\"sigmoid\"))\n",
    "\n",
    "# Check the structure of the model\n",
    "nn.summary()"
   ]
  },
  {
   "cell_type": "code",
   "execution_count": 70,
   "metadata": {},
   "outputs": [],
   "source": [
    "# Compile the model\n",
    "\n",
    "nn.compile(loss=\"binary_crossentropy\", optimizer=\"adam\", metrics=[\"accuracy\"])"
   ]
  },
  {
   "cell_type": "code",
   "execution_count": 71,
   "metadata": {},
   "outputs": [
    {
     "name": "stdout",
     "output_type": "stream",
     "text": [
      "Epoch 1/25\n",
      "804/804 [==============================] - 3s 3ms/step - loss: 0.5859 - accuracy: 0.7106\n",
      "Epoch 2/25\n",
      "804/804 [==============================] - 2s 3ms/step - loss: 0.5624 - accuracy: 0.7265\n",
      "Epoch 3/25\n",
      "804/804 [==============================] - 2s 3ms/step - loss: 0.5597 - accuracy: 0.7259\n",
      "Epoch 4/25\n",
      "804/804 [==============================] - 2s 3ms/step - loss: 0.5578 - accuracy: 0.7269\n",
      "Epoch 5/25\n",
      "804/804 [==============================] - 2s 3ms/step - loss: 0.5570 - accuracy: 0.7280\n",
      "Epoch 6/25\n",
      "804/804 [==============================] - 2s 3ms/step - loss: 0.5559 - accuracy: 0.7288\n",
      "Epoch 7/25\n",
      "804/804 [==============================] - 2s 3ms/step - loss: 0.5557 - accuracy: 0.7298\n",
      "Epoch 8/25\n",
      "804/804 [==============================] - 2s 3ms/step - loss: 0.5549 - accuracy: 0.7296\n",
      "Epoch 9/25\n",
      "804/804 [==============================] - 2s 3ms/step - loss: 0.5545 - accuracy: 0.7287\n",
      "Epoch 10/25\n",
      "804/804 [==============================] - 2s 3ms/step - loss: 0.5539 - accuracy: 0.7287\n",
      "Epoch 11/25\n",
      "804/804 [==============================] - 2s 3ms/step - loss: 0.5535 - accuracy: 0.7294\n",
      "Epoch 12/25\n",
      "804/804 [==============================] - 2s 3ms/step - loss: 0.5533 - accuracy: 0.7302\n",
      "Epoch 13/25\n",
      "804/804 [==============================] - 2s 3ms/step - loss: 0.5533 - accuracy: 0.7300\n",
      "Epoch 14/25\n",
      "804/804 [==============================] - 2s 3ms/step - loss: 0.5529 - accuracy: 0.7296\n",
      "Epoch 15/25\n",
      "804/804 [==============================] - 2s 3ms/step - loss: 0.5521 - accuracy: 0.7300\n",
      "Epoch 16/25\n",
      "804/804 [==============================] - 2s 3ms/step - loss: 0.5519 - accuracy: 0.7298\n",
      "Epoch 17/25\n",
      "804/804 [==============================] - 2s 3ms/step - loss: 0.5518 - accuracy: 0.7311\n",
      "Epoch 18/25\n",
      "804/804 [==============================] - 2s 3ms/step - loss: 0.5518 - accuracy: 0.7294\n",
      "Epoch 19/25\n",
      "804/804 [==============================] - 2s 3ms/step - loss: 0.5514 - accuracy: 0.7317\n",
      "Epoch 20/25\n",
      "804/804 [==============================] - 2s 3ms/step - loss: 0.5514 - accuracy: 0.7292\n",
      "Epoch 21/25\n",
      "804/804 [==============================] - 2s 3ms/step - loss: 0.5513 - accuracy: 0.7285\n",
      "Epoch 22/25\n",
      "804/804 [==============================] - 2s 3ms/step - loss: 0.5510 - accuracy: 0.7296\n",
      "Epoch 23/25\n",
      "804/804 [==============================] - 2s 3ms/step - loss: 0.5507 - accuracy: 0.7303\n",
      "Epoch 24/25\n",
      "804/804 [==============================] - 2s 3ms/step - loss: 0.5509 - accuracy: 0.7295\n",
      "Epoch 25/25\n",
      "804/804 [==============================] - 2s 3ms/step - loss: 0.5505 - accuracy: 0.7294\n"
     ]
    }
   ],
   "source": [
    "# Train the model\n",
    "m_fit = nn.fit(X_train_scaled, y_train, epochs=25)"
   ]
  },
  {
   "cell_type": "code",
   "execution_count": 72,
   "metadata": {},
   "outputs": [
    {
     "name": "stdout",
     "output_type": "stream",
     "text": [
      "268/268 - 1s - loss: 0.5575 - accuracy: 0.7293 - 658ms/epoch - 2ms/step\n",
      "Loss: 0.5575433373451233, Accuracy: 0.7293294668197632\n"
     ]
    }
   ],
   "source": [
    "# Evaluate the model using the test data\n",
    "model_loss, model_accuracy = nn.evaluate(X_test_scaled,y_test,verbose=2)\n",
    "print(f\"Loss: {model_loss}, Accuracy: {model_accuracy}\")"
   ]
  },
  {
   "cell_type": "markdown",
   "metadata": {},
   "source": [
    "## TRY TWO; We will kep the data as it is (reprocessed) and play with the layers"
   ]
  },
  {
   "cell_type": "code",
   "execution_count": 73,
   "metadata": {},
   "outputs": [
    {
     "name": "stdout",
     "output_type": "stream",
     "text": [
      "Model: \"sequential_15\"\n",
      "_________________________________________________________________\n",
      " Layer (type)                Output Shape              Param #   \n",
      "=================================================================\n",
      " dense_45 (Dense)            (None, 25)                950       \n",
      "                                                                 \n",
      " dense_46 (Dense)            (None, 50)                1300      \n",
      "                                                                 \n",
      " dense_47 (Dense)            (None, 1)                 51        \n",
      "                                                                 \n",
      "=================================================================\n",
      "Total params: 2,301\n",
      "Trainable params: 2,301\n",
      "Non-trainable params: 0\n",
      "_________________________________________________________________\n"
     ]
    }
   ],
   "source": [
    "nn2 = tf.keras.models.Sequential()\n",
    "nn2.add(tf.keras.layers.Dense(units=25, activation=\"relu\", input_dim=len(X_train_scaled[0])))\n",
    "nn2.add(tf.keras.layers.Dense(units=50, activation=\"softsign\"))\n",
    "nn2.add(tf.keras.layers.Dense(units=1, activation=\"sigmoid\"))\n",
    "nn2.summary()"
   ]
  },
  {
   "cell_type": "code",
   "execution_count": 74,
   "metadata": {},
   "outputs": [
    {
     "name": "stdout",
     "output_type": "stream",
     "text": [
      "Epoch 1/25\n",
      "804/804 [==============================] - 3s 3ms/step - loss: 0.5786 - accuracy: 0.7171\n",
      "Epoch 2/25\n",
      "804/804 [==============================] - 2s 3ms/step - loss: 0.5614 - accuracy: 0.7269\n",
      "Epoch 3/25\n",
      "804/804 [==============================] - 2s 3ms/step - loss: 0.5594 - accuracy: 0.7279\n",
      "Epoch 4/25\n",
      "804/804 [==============================] - 2s 3ms/step - loss: 0.5573 - accuracy: 0.7275\n",
      "Epoch 5/25\n",
      "804/804 [==============================] - 2s 3ms/step - loss: 0.5559 - accuracy: 0.7277\n",
      "Epoch 6/25\n",
      "804/804 [==============================] - 3s 4ms/step - loss: 0.5556 - accuracy: 0.7281\n",
      "Epoch 7/25\n",
      "804/804 [==============================] - 3s 3ms/step - loss: 0.5541 - accuracy: 0.7283\n",
      "Epoch 8/25\n",
      "804/804 [==============================] - 2s 3ms/step - loss: 0.5541 - accuracy: 0.7297\n",
      "Epoch 9/25\n",
      "804/804 [==============================] - 2s 3ms/step - loss: 0.5536 - accuracy: 0.7280\n",
      "Epoch 10/25\n",
      "804/804 [==============================] - 2s 3ms/step - loss: 0.5530 - accuracy: 0.7286\n",
      "Epoch 11/25\n",
      "804/804 [==============================] - 3s 3ms/step - loss: 0.5525 - accuracy: 0.7292\n",
      "Epoch 12/25\n",
      "804/804 [==============================] - 2s 3ms/step - loss: 0.5518 - accuracy: 0.7300\n",
      "Epoch 13/25\n",
      "804/804 [==============================] - 2s 3ms/step - loss: 0.5515 - accuracy: 0.7293\n",
      "Epoch 14/25\n",
      "804/804 [==============================] - 2s 3ms/step - loss: 0.5510 - accuracy: 0.7307\n",
      "Epoch 15/25\n",
      "804/804 [==============================] - 2s 3ms/step - loss: 0.5510 - accuracy: 0.7306\n",
      "Epoch 16/25\n",
      "804/804 [==============================] - 3s 3ms/step - loss: 0.5505 - accuracy: 0.7308\n",
      "Epoch 17/25\n",
      "804/804 [==============================] - 2s 3ms/step - loss: 0.5500 - accuracy: 0.7315\n",
      "Epoch 18/25\n",
      "804/804 [==============================] - 2s 3ms/step - loss: 0.5499 - accuracy: 0.7305\n",
      "Epoch 19/25\n",
      "804/804 [==============================] - 2s 3ms/step - loss: 0.5499 - accuracy: 0.7309\n",
      "Epoch 20/25\n",
      "804/804 [==============================] - 2s 3ms/step - loss: 0.5492 - accuracy: 0.7316\n",
      "Epoch 21/25\n",
      "804/804 [==============================] - 2s 3ms/step - loss: 0.5492 - accuracy: 0.7304\n",
      "Epoch 22/25\n",
      "804/804 [==============================] - 2s 3ms/step - loss: 0.5492 - accuracy: 0.7328\n",
      "Epoch 23/25\n",
      "804/804 [==============================] - 2s 3ms/step - loss: 0.5485 - accuracy: 0.7326\n",
      "Epoch 24/25\n",
      "804/804 [==============================] - 2s 3ms/step - loss: 0.5491 - accuracy: 0.7313\n",
      "Epoch 25/25\n",
      "804/804 [==============================] - 2s 3ms/step - loss: 0.5489 - accuracy: 0.7323\n"
     ]
    }
   ],
   "source": [
    "nn2.compile(loss=\"binary_crossentropy\", optimizer=\"adam\", metrics=[\"accuracy\"])\n",
    "m2_fit = nn2.fit(X_train_scaled, y_train, epochs=25)"
   ]
  },
  {
   "cell_type": "code",
   "execution_count": 75,
   "metadata": {},
   "outputs": [
    {
     "name": "stdout",
     "output_type": "stream",
     "text": [
      "268/268 - 1s - loss: 0.5556 - accuracy: 0.7300 - 1s/epoch - 4ms/step\n",
      "Loss: 0.5556140542030334, Accuracy: 0.7300291657447815\n"
     ]
    }
   ],
   "source": [
    "model_loss2, model_accuracy2 = nn2.evaluate(X_test_scaled,y_test,verbose=2)\n",
    "print(f\"Loss: {model_loss2}, Accuracy: {model_accuracy2}\")"
   ]
  },
  {
   "cell_type": "markdown",
   "metadata": {},
   "source": [
    "## Try different activations and nodes"
   ]
  },
  {
   "cell_type": "code",
   "execution_count": 93,
   "metadata": {},
   "outputs": [
    {
     "name": "stdout",
     "output_type": "stream",
     "text": [
      "Model: \"sequential_22\"\n",
      "_________________________________________________________________\n",
      " Layer (type)                Output Shape              Param #   \n",
      "=================================================================\n",
      " dense_69 (Dense)            (None, 25)                950       \n",
      "                                                                 \n",
      " dense_70 (Dense)            (None, 50)                1300      \n",
      "                                                                 \n",
      " dense_71 (Dense)            (None, 1)                 51        \n",
      "                                                                 \n",
      "=================================================================\n",
      "Total params: 2,301\n",
      "Trainable params: 2,301\n",
      "Non-trainable params: 0\n",
      "_________________________________________________________________\n"
     ]
    }
   ],
   "source": [
    "nn3 = tf.keras.models.Sequential()\n",
    "nn3.add(tf.keras.layers.Dense(units=25, activation=\"selu\", input_dim=len(X_train_scaled[0])))\n",
    "nn3.add(tf.keras.layers.Dense(units=50, activation=\"selu\"))\n",
    "nn3.add(tf.keras.layers.Dense(units=1, activation=\"sigmoid\"))\n",
    "nn3.summary()"
   ]
  },
  {
   "cell_type": "code",
   "execution_count": 94,
   "metadata": {},
   "outputs": [
    {
     "name": "stdout",
     "output_type": "stream",
     "text": [
      "Epoch 1/10\n",
      "804/804 [==============================] - 3s 3ms/step - loss: 0.5857 - accuracy: 0.7167\n",
      "Epoch 2/10\n",
      "804/804 [==============================] - 2s 3ms/step - loss: 0.5682 - accuracy: 0.7241\n",
      "Epoch 3/10\n",
      "804/804 [==============================] - 2s 3ms/step - loss: 0.5637 - accuracy: 0.7240\n",
      "Epoch 4/10\n",
      "804/804 [==============================] - 2s 3ms/step - loss: 0.5612 - accuracy: 0.7252\n",
      "Epoch 5/10\n",
      "804/804 [==============================] - 2s 3ms/step - loss: 0.5600 - accuracy: 0.7259\n",
      "Epoch 6/10\n",
      "804/804 [==============================] - 2s 3ms/step - loss: 0.5596 - accuracy: 0.7257\n",
      "Epoch 7/10\n",
      "804/804 [==============================] - 2s 3ms/step - loss: 0.5583 - accuracy: 0.7286\n",
      "Epoch 8/10\n",
      "804/804 [==============================] - 2s 3ms/step - loss: 0.5569 - accuracy: 0.7266\n",
      "Epoch 9/10\n",
      "804/804 [==============================] - 2s 3ms/step - loss: 0.5573 - accuracy: 0.7277\n",
      "Epoch 10/10\n",
      "804/804 [==============================] - 3s 3ms/step - loss: 0.5564 - accuracy: 0.7281\n"
     ]
    }
   ],
   "source": [
    "nn3.compile(loss=\"binary_crossentropy\", optimizer=\"adam\", metrics=[\"accuracy\"])\n",
    "m3_fit = nn3.fit(X_train_scaled, y_train, epochs=10)"
   ]
  },
  {
   "cell_type": "code",
   "execution_count": 95,
   "metadata": {},
   "outputs": [
    {
     "name": "stdout",
     "output_type": "stream",
     "text": [
      "268/268 - 1s - loss: 0.5560 - accuracy: 0.7282 - 740ms/epoch - 3ms/step\n",
      "Loss: 0.5559619069099426, Accuracy: 0.7281632423400879\n"
     ]
    }
   ],
   "source": [
    "model_loss3, model_accuracy3 = nn3.evaluate(X_test_scaled,y_test,verbose=2)\n",
    "print(f\"Loss: {model_loss3}, Accuracy: {model_accuracy3}\")"
   ]
  },
  {
   "cell_type": "code",
   "execution_count": 96,
   "metadata": {},
   "outputs": [],
   "source": [
    "# Export our model to HDF5 file\n",
    "nn2.save(\"AlphabetSoupCharity73_accuracy.h5\")"
   ]
  },
  {
   "cell_type": "code",
   "execution_count": 98,
   "metadata": {},
   "outputs": [
    {
     "data": {
      "text/html": [
       "<div>\n",
       "<style scoped>\n",
       "    .dataframe tbody tr th:only-of-type {\n",
       "        vertical-align: middle;\n",
       "    }\n",
       "\n",
       "    .dataframe tbody tr th {\n",
       "        vertical-align: top;\n",
       "    }\n",
       "\n",
       "    .dataframe thead th {\n",
       "        text-align: right;\n",
       "    }\n",
       "</style>\n",
       "<table border=\"1\" class=\"dataframe\">\n",
       "  <thead>\n",
       "    <tr style=\"text-align: right;\">\n",
       "      <th></th>\n",
       "      <th>Model</th>\n",
       "      <th>Model Loss</th>\n",
       "      <th>Model Accuracy</th>\n",
       "    </tr>\n",
       "  </thead>\n",
       "  <tbody>\n",
       "    <tr>\n",
       "      <th>0</th>\n",
       "      <td>1</td>\n",
       "      <td>0.557543</td>\n",
       "      <td>0.729329</td>\n",
       "    </tr>\n",
       "    <tr>\n",
       "      <th>1</th>\n",
       "      <td>2</td>\n",
       "      <td>0.555614</td>\n",
       "      <td>0.730029</td>\n",
       "    </tr>\n",
       "    <tr>\n",
       "      <th>2</th>\n",
       "      <td>3</td>\n",
       "      <td>0.555962</td>\n",
       "      <td>0.728163</td>\n",
       "    </tr>\n",
       "  </tbody>\n",
       "</table>\n",
       "</div>"
      ],
      "text/plain": [
       "  Model  Model Loss  Model Accuracy\n",
       "0     1    0.557543        0.729329\n",
       "1     2    0.555614        0.730029\n",
       "2     3    0.555962        0.728163"
      ]
     },
     "execution_count": 98,
     "metadata": {},
     "output_type": "execute_result"
    }
   ],
   "source": [
    "models  = [\"1\", \"2\", \"3\"]\n",
    "losses = [model_loss , model_loss2, model_loss3]\n",
    "accuracy = [model_accuracy, model_accuracy2, model_accuracy3]\n",
    "\n",
    "results = pd.DataFrame({\"Model\" : models, \"Model Loss\" : losses, \"Model Accuracy\" : accuracy })\n",
    "\n",
    "results"
   ]
  },
  {
   "cell_type": "code",
   "execution_count": null,
   "metadata": {},
   "outputs": [],
   "source": []
  }
 ],
 "metadata": {
  "kernelspec": {
   "display_name": "Python 3 (ipykernel)",
   "language": "python",
   "name": "python3"
  },
  "language_info": {
   "codemirror_mode": {
    "name": "ipython",
    "version": 3
   },
   "file_extension": ".py",
   "mimetype": "text/x-python",
   "name": "python",
   "nbconvert_exporter": "python",
   "pygments_lexer": "ipython3",
   "version": "3.9.7"
  }
 },
 "nbformat": 4,
 "nbformat_minor": 4
}
